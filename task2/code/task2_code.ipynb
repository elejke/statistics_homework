{
 "cells": [
  {
   "cell_type": "code",
   "execution_count": 3,
   "metadata": {
    "collapsed": true
   },
   "outputs": [],
   "source": [
    "%matplotlib inline\n",
    "\n",
    "import numpy as np\n",
    "import pylab as plt\n",
    "import scipy as scp"
   ]
  },
  {
   "cell_type": "markdown",
   "metadata": {},
   "source": [
    "Задача 1(9 из задания):"
   ]
  },
  {
   "cell_type": "code",
   "execution_count": 37,
   "metadata": {
    "collapsed": false
   },
   "outputs": [
    {
     "name": "stdout",
     "output_type": "stream",
     "text": [
      "Принимаем гипотезу о равномерном распределении\n"
     ]
    }
   ],
   "source": [
    "p_0 = 1./10\n",
    "p = np.array([p_0]*10)\n",
    "X = np.array([74, 92, 83, 79, 80, 73, 77, 75, 76, 91])\n",
    "n = 800\n",
    "\n",
    "#количество степеней свободы - 9\n",
    "\n",
    "T_ksi = 1./(n*p_0)*sum((X-n*p)**2)\n",
    "\n",
    "if 3.33 < T_ksi < 16.92: print(\"Принимаем гипотезу о равномерном распределении\")"
   ]
  },
  {
   "cell_type": "markdown",
   "metadata": {},
   "source": [
    "Задача 2:"
   ]
  },
  {
   "cell_type": "code",
   "execution_count": 53,
   "metadata": {
    "collapsed": false
   },
   "outputs": [
    {
     "name": "stdout",
     "output_type": "stream",
     "text": [
      "Принимаем гипотезу о равномерном распределении\n"
     ]
    }
   ],
   "source": [
    "data = np.array([0.9315, 0.2695, 0.3878, 0.9745, 0.9924, 0.7457, 0.8475, 0.6628, 0.8187, 0.8893,\n",
    "              0.8349, 0.7307, 0.0561, 0.2743, 0.0894, 0.8752, 0.6811, 0.2633, 0.2017, 0.9175,\n",
    "              0.9216, 0.6255, 0.4706, 0.6466, 0.1435, 0.3346, 0.8364, 0.3615, 0.1722, 0.2976,\n",
    "              0.7496, 0.2839, 0.4761, 0.9145, 0.2593, 0.6382, 0.2503, 0.3774, 0.2375, 0.8477,\n",
    "              0.8377, 0.5630, 0.2949, 0.6426, 0.9733, 0.4877, 0.4357, 0.6582, 0.6353, 0.2173])\n",
    "\n",
    "#plt.hist(X,N_i); где N_i = {10,...,6}, поиск оптимального n_bins;\n",
    "\n",
    "n_bins = 6\n",
    "\n",
    "bins, bin_edges = np.histogram(data, bins=n_bins)\n",
    "\n",
    "p_0 = 1./n_bins\n",
    "p = np.array([p_0]*n_bins)\n",
    "X = bins\n",
    "n = 50\n",
    "\n",
    "# количество степеней свободы - 5\n",
    "T_ksi = 1./(n*p_0)*sum((X-n*p)**2)\n",
    "\n",
    "if 2.67 < T_ksi < 9.23: print(\"Принимаем гипотезу о равномерном распределении\")"
   ]
  },
  {
   "cell_type": "markdown",
   "metadata": {
    "collapsed": true
   },
   "source": [
    "Задача 3(10 из задания):"
   ]
  },
  {
   "cell_type": "code",
   "execution_count": 22,
   "metadata": {
    "collapsed": false
   },
   "outputs": [
    {
     "name": "stdout",
     "output_type": "stream",
     "text": [
      "Всё плохо\n"
     ]
    }
   ],
   "source": [
    "data = np.array([10,181,9])\n",
    "\n",
    "p_theta = 201./400 #найдено с помощью метода максимального правдоподобия\n",
    "p = np.array([p_theta**2,2*p_theta*(1-p_theta),(1-p_theta)**2])\n",
    "X = data\n",
    "n = 200\n",
    "# количество степеней свободы - 2\n",
    "T_ksi = 1./(n)*sum((X-n*p)**2/p)\n",
    "if T_ksi > 10: print \"Всё плохо\" # посмотреть квантили или заюзать p-value"
   ]
  },
  {
   "cell_type": "markdown",
   "metadata": {
    "collapsed": true
   },
   "source": [
    "Задача 4"
   ]
  },
  {
   "cell_type": "code",
   "execution_count": 23,
   "metadata": {
    "collapsed": false
   },
   "outputs": [],
   "source": [
    "#???"
   ]
  },
  {
   "cell_type": "markdown",
   "metadata": {},
   "source": [
    "Задача 5(12 из задания)"
   ]
  },
  {
   "cell_type": "code",
   "execution_count": 24,
   "metadata": {
    "collapsed": true
   },
   "outputs": [],
   "source": [
    "#c семинара + посчитать"
   ]
  }
 ],
 "metadata": {
  "kernelspec": {
   "display_name": "Python 2",
   "language": "python",
   "name": "python2"
  },
  "language_info": {
   "codemirror_mode": {
    "name": "ipython",
    "version": 2
   },
   "file_extension": ".py",
   "mimetype": "text/x-python",
   "name": "python",
   "nbconvert_exporter": "python",
   "pygments_lexer": "ipython2",
   "version": "2.7.9"
  }
 },
 "nbformat": 4,
 "nbformat_minor": 0
}
