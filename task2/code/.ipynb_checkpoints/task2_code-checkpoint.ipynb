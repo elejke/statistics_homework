{
 "cells": [
  {
   "cell_type": "code",
   "execution_count": 1,
   "metadata": {
    "collapsed": false
   },
   "outputs": [],
   "source": [
    "%matplotlib inline\n",
    "\n",
    "import numpy as np\n",
    "import pylab as plt\n",
    "import scipy as scp\n",
    "\n",
    "from scipy.stats import chi2\n",
    "from scipy.stats import chisquare\n",
    "from scipy.stats import norm"
   ]
  },
  {
   "cell_type": "markdown",
   "metadata": {},
   "source": [
    "Задача 1(9 из задания):"
   ]
  },
  {
   "cell_type": "code",
   "execution_count": 4,
   "metadata": {
    "collapsed": false
   },
   "outputs": [
    {
     "name": "stdout",
     "output_type": "stream",
     "text": [
      "Принимаем гипотезу о равномерном распределении\n"
     ]
    }
   ],
   "source": [
    "p_0 = 1./10\n",
    "p = np.array([p_0]*10)\n",
    "X = np.array([74, 92, 83, 79, 80, 73, 77, 75, 76, 91])\n",
    "n = 800\n",
    "\n",
    "#количество степеней свободы - 9\n",
    "\n",
    "T_chi = 1./(n*p_0)*sum((X-n*p)**2)\n",
    "\n",
    "\n",
    "#в этой задаче будем использовать некоторый \\alpha = 0.05 - уровень значимости \n",
    "l,r = chi2.interval(0.05, 9)\n",
    "if T_chi < r: print(\"Принимаем гипотезу о равномерном распределении\")"
   ]
  },
  {
   "cell_type": "markdown",
   "metadata": {},
   "source": [
    "Задача 2:"
   ]
  },
  {
   "cell_type": "code",
   "execution_count": 57,
   "metadata": {
    "collapsed": false
   },
   "outputs": [
    {
     "name": "stdout",
     "output_type": "stream",
     "text": [
      "0.229718937393\n",
      "Принимаем гипотезу о равномерном распределении\n"
     ]
    }
   ],
   "source": [
    "#В этой задаче я изначально не заметил предложения что нужно разделить на 7, а потом сливать в одну какую-то из пар, \n",
    "#и, следуя указанию на лекции, искал максимальное значение количеста bins, при котором в каждой из них содержится\n",
    "#минимум 5 значений. Однако, я понимаю, что могут быть очень плохие случаи, когда такой метод будет размельчать наши\n",
    "#колонки очень долго. В этом случае необходимо использовать предложенный способ с объединением.\n",
    "\n",
    "data = np.array([0.9315, 0.2695, 0.3878, 0.9745, 0.9924, 0.7457, 0.8475, 0.6628, 0.8187, 0.8893,\n",
    "              0.8349, 0.7307, 0.0561, 0.2743, 0.0894, 0.8752, 0.6811, 0.2633, 0.2017, 0.9175,\n",
    "              0.9216, 0.6255, 0.4706, 0.6466, 0.1435, 0.3346, 0.8364, 0.3615, 0.1722, 0.2976,\n",
    "              0.7496, 0.2839, 0.4761, 0.9145, 0.2593, 0.6382, 0.2503, 0.3774, 0.2375, 0.8477,\n",
    "              0.8377, 0.5630, 0.2949, 0.6426, 0.9733, 0.4877, 0.4357, 0.6582, 0.6353, 0.2173])\n",
    "\n",
    "#plt.hist(X,N_i); где N_i = {10,...,6}, поиск оптимального n_bins; нашли, берем n_bins = 6\n",
    "\n",
    "n_bins = 6\n",
    "\n",
    "bins, bin_edges = np.histogram(data, bins=n_bins)\n",
    "\n",
    "p_0 = 1./n_bins\n",
    "p = np.array([p_0]*n_bins)\n",
    "X = bins\n",
    "n = 50\n",
    "\n",
    "#----------------------------------------------\n",
    "# количество степеней свободы - 5\n",
    "#T_chi = 1./(n*p_0)*sum((X-n*p)**2)\n",
    "#if T_chi < 9.23: print(\"Принимаем гипотезу о равномерном распределении\") /если смотреть по таблице\n",
    "#----------------------------------------------\n",
    "\n",
    "#но в этой задаче воспользуемся p-value:\n",
    "\n",
    "value, p_value = chisquare(X, f_exp=p*n, ddof=0, axis=0)\n",
    "print(p_value)\n",
    "\n",
    "if p_value > 0.05: print \"Принимаем гипотезу о равномерном распределении\"\n",
    "#Видим, что p-value = 0.23, что отвечает нашим требованиям"
   ]
  },
  {
   "cell_type": "markdown",
   "metadata": {
    "collapsed": true
   },
   "source": [
    "Задача 3(10 из задания):"
   ]
  },
  {
   "cell_type": "code",
   "execution_count": 7,
   "metadata": {
    "collapsed": false
   },
   "outputs": [
    {
     "name": "stdout",
     "output_type": "stream",
     "text": [
      "131.234661776 3.1824037542e-29\n",
      "Не принимаем\n"
     ]
    }
   ],
   "source": [
    "data = np.array([10,181,9])\n",
    "\n",
    "p_t = 201./400 #найдено с помощью метода максимального правдоподобия L(p_t) = (2*p_t(1-p_t))**181 * ((1-p_t)**2)**9\n",
    "p = np.array([p_t**2,2*p_t*(1-p_t),(1-p_t)**2])\n",
    "X = data\n",
    "n = 200\n",
    "# количество степеней свободы - 1\n",
    "T_chi = 1./(n)*sum((X-n*p)**2/p)\n",
    "\n",
    "value, p_value = chisquare(X, f_exp=p*n, ddof=0, axis=0) #это хи квадрат для $X, p, n\n",
    "print value, p_value\n",
    "\n",
    "#Видим, что p_value - есть почти нулевая величина, что означает, что мы получили очень редкое событие и в\n",
    "#соответствии с этим мы отвергаем нашу гипотезу о биномиальном распределении\n",
    "if p_value > 0.05: print \"Принимаем гипотезу\"\n",
    "else: print \"Не принимаем\""
   ]
  },
  {
   "cell_type": "markdown",
   "metadata": {
    "collapsed": true
   },
   "source": [
    "Задача 4"
   ]
  },
  {
   "cell_type": "code",
   "execution_count": 52,
   "metadata": {
    "collapsed": false
   },
   "outputs": [],
   "source": [
    "#----"
   ]
  },
  {
   "cell_type": "markdown",
   "metadata": {},
   "source": [
    "Задача 5(12 из задания)"
   ]
  },
  {
   "cell_type": "code",
   "execution_count": 31,
   "metadata": {
    "collapsed": false
   },
   "outputs": [
    {
     "data": {
      "image/png": "[encoded data removed]",
      "text/plain": [
       "<matplotlib.figure.Figure at 0x7f2995da8c50>"
      ]
     },
     "metadata": {},
     "output_type": "display_data"
    }
   ],
   "source": [
    "#X = np.linspace(-30,30,num=1000)\n",
    "#plt.plot(X,norm.pdf(X))\n",
    "X = [5, 8, 6, 12, 14, 18, 11, 6, 13, 7]\n",
    "ind = [i+1./2 for i in range(10)]\n",
    "m = np.mean([5, 8, 6, 12, 14, 18, 11, 6, 13, 7])\n",
    "l = len([5, 8, 6, 12, 14, 18, 11, 6, 13, 7])\n",
    "#plt.hist(np.array([5, 8, 6, 12, 14, 18, 11, 6, 13, 7]-np.array([m]*l)))\n",
    "\n",
    "plt.bar(range(10),[5, 8, 6, 12, 14, 18, 11, 6, 13, 7])\n",
    "\n",
    "mu = 1./sum(X)*sum(np.array(X)*np.array(ind))\n",
    "\n",
    "sigma = 1./sum(X)*sum(np.array(X)*(ind - mu)**2)"
   ]
  },
  {
   "cell_type": "markdown",
   "metadata": {
    "collapsed": true
   },
   "source": [
    "Первым делом оценим параметры $\\mu$ и $\\sigma^2$, сделать это можно воспользовавшись результатами с семинара:\n",
    "\n",
    "$\\mu = \\frac1n \\sum\\nu_i z_i = 5.77$\n",
    "\n",
    "$\\sigma^2 = \\frac1n \\sum \\nu_i (z_i - \\mu)^2 = 6.28$\n",
    "\n",
    "Теперь остаётся только оценить вероятности попадания в каждый из кусочков $[i,i+1]$ в случае нормального распределения с заданными параметрами:\n",
    "\n",
    "$p_i = \\frac{1}{\\sqrt{2\\pi} \\sigma} \\int\\limits_i^{i+1} \\exp(-\\frac{(x - \\mu)^2}{2\\sigma^2})dx$\n",
    "\n",
    "\n",
    "И находим $T_{\\chi^2} = 52.2$\n",
    "\n",
    "При этом степеней свободы - $N-1-2 = 7$"
   ]
  },
  {
   "cell_type": "code",
   "execution_count": 36,
   "metadata": {
    "collapsed": false
   },
   "outputs": [
    {
     "name": "stdout",
     "output_type": "stream",
     "text": [
      "2.42052229161e-09\n"
     ]
    }
   ],
   "source": [
    "p_value = chi2.pdf(52.2,7)\n",
    "\n",
    "print(p_value)"
   ]
  },
  {
   "cell_type": "markdown",
   "metadata": {},
   "source": [
    "Таким образом, т.к. $p_{value}$ слишком мало, отвегаем гипотезу о нормальном распределении"
   ]
  },
  {
   "cell_type": "code",
   "execution_count": null,
   "metadata": {
    "collapsed": true
   },
   "outputs": [],
   "source": []
  }
 ],
 "metadata": {
  "kernelspec": {
   "display_name": "Python 2",
   "language": "python",
   "name": "python2"
  },
  "language_info": {
   "codemirror_mode": {
    "name": "ipython",
    "version": 2
   },
   "file_extension": ".py",
   "mimetype": "text/x-python",
   "name": "python",
   "nbconvert_exporter": "python",
   "pygments_lexer": "ipython2",
   "version": "2.7.9"
  }
 },
 "nbformat": 4,
 "nbformat_minor": 0
}
